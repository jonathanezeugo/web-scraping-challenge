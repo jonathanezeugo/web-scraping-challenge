{
 "cells": [
  {
   "cell_type": "code",
   "execution_count": 8,
   "id": "rapid-physics",
   "metadata": {},
   "outputs": [],
   "source": [
    "# Importing dependencies\n",
    "from splinter import Browser\n",
    "from bs4 import BeautifulSoup as bs\n",
    "import re\n",
    "import pandas as pd\n",
    "import requests\n",
    "from webdriver_manager.chrome import ChromeDriverManager\n",
    "import time"
   ]
  },
  {
   "cell_type": "markdown",
   "id": "defensive-soundtrack",
   "metadata": {},
   "source": [
    "### All of this HW in this notebook are for Step 1\n",
    "\n",
    "#### NASA Mars News"
   ]
  },
  {
   "cell_type": "code",
   "execution_count": 2,
   "id": "occasional-reduction",
   "metadata": {
    "scrolled": true
   },
   "outputs": [
    {
     "name": "stderr",
     "output_type": "stream",
     "text": [
      "[WDM] - ====== WebDriver manager ======\n",
      "[WDM] - Current google-chrome version is 88.0.4324\n",
      "[WDM] - Get LATEST driver version for 88.0.4324\n"
     ]
    },
    {
     "name": "stdout",
     "output_type": "stream",
     "text": [
      "\n",
      "\n"
     ]
    },
    {
     "name": "stderr",
     "output_type": "stream",
     "text": [
      "[WDM] - Driver [C:\\Users\\jonat\\.wdm\\drivers\\chromedriver\\win32\\88.0.4324.96\\chromedriver.exe] found in cache\n"
     ]
    }
   ],
   "source": [
    "# Setting up Splinter and path to chrome page, with headless as False so we can see the webpage\n",
    "executable_path = {'executable_path': ChromeDriverManager().install()}\n",
    "browser = Browser('chrome', **executable_path, headless=False)"
   ]
  },
  {
   "cell_type": "code",
   "execution_count": 217,
   "id": "smaller-multiple",
   "metadata": {},
   "outputs": [],
   "source": [
    "# First URL to visit for scrapping\n",
    "url = \"https://mars.nasa.gov/news/\"\n",
    "\n",
    "# Retrieve page with the browser module\n",
    "browser.visit(url)"
   ]
  },
  {
   "cell_type": "code",
   "execution_count": 218,
   "id": "supposed-philip",
   "metadata": {},
   "outputs": [],
   "source": [
    "# Create browser element\n",
    "html = browser.html\n",
    "\n",
    "# Creating the beautifulSoup object, parse with html parser\n",
    "nasa_soup = bs(html,'html.parser')\n",
    "\n",
    "# selecting first domain for scapping the website from the URL\n",
    "domain_element = nasa_soup.select_one('ul.item_list li.slide')"
   ]
  },
  {
   "cell_type": "code",
   "execution_count": 219,
   "id": "small-slope",
   "metadata": {},
   "outputs": [
    {
     "data": {
      "text/plain": [
       "<div class=\"content_title\"><a href=\"/news/8859/sensors-prepare-to-collect-data-as-perseverance-enters-mars-atmosphere/\" target=\"_self\">Sensors Prepare to Collect Data as Perseverance Enters Mars' Atmosphere</a></div>"
      ]
     },
     "execution_count": 219,
     "metadata": {},
     "output_type": "execute_result"
    }
   ],
   "source": [
    "# Defining the first element for quick viewing\n",
    "domain_element.find('div', class_='content_title')"
   ]
  },
  {
   "cell_type": "markdown",
   "id": "insured-drunk",
   "metadata": {},
   "source": [
    "#### Collecting the latest News Title from the NASA Mars News website. Passed into variable \"news_title\""
   ]
  },
  {
   "cell_type": "code",
   "execution_count": 220,
   "id": "static-recipient",
   "metadata": {},
   "outputs": [
    {
     "name": "stdout",
     "output_type": "stream",
     "text": [
      "Latest News Title:\n",
      " Sensors Prepare to Collect Data as Perseverance Enters Mars' Atmosphere\n",
      "-------------------------\n",
      "Paragraph Text:\n",
      " Technology will collect critical data about the harsh entry environment during Perseverance’s entry next Thursday.\n"
     ]
    }
   ],
   "source": [
    "# Scraping the NASA Mars News Site. The most recent or latest News Title and Paragraph Text are in the first section on the \n",
    "# webpage.\n",
    "news_title = domain_element.find('div', class_='content_title').get_text()\n",
    "news_par = domain_element.find('div', class_='article_teaser_body').get_text()\n",
    "\n",
    "# Printing out the latest news title and paragraph text\n",
    "print(f\"Latest News Title:\\n {news_title}\")\n",
    "print(\"-------------------------\")\n",
    "print(f\"Paragraph Text:\\n {news_par}\")"
   ]
  },
  {
   "cell_type": "code",
   "execution_count": 221,
   "id": "developmental-retailer",
   "metadata": {},
   "outputs": [],
   "source": [
    "# Closing browser\n",
    "browser.quit()"
   ]
  },
  {
   "cell_type": "markdown",
   "id": "desperate-fashion",
   "metadata": {},
   "source": [
    "#### JPL Mars Space Images - Featured Image. Although instructor said to skip this part, I reckon I could still obtain the url, so I gave it a try."
   ]
  },
  {
   "cell_type": "code",
   "execution_count": 223,
   "id": "proprietary-contents",
   "metadata": {},
   "outputs": [
    {
     "name": "stderr",
     "output_type": "stream",
     "text": [
      "[WDM] - ====== WebDriver manager ======\n",
      "[WDM] - Current google-chrome version is 88.0.4324\n",
      "[WDM] - Get LATEST driver version for 88.0.4324\n",
      "[WDM] - Driver [C:\\Users\\jonat\\.wdm\\drivers\\chromedriver\\win32\\88.0.4324.96\\chromedriver.exe] found in cache\n"
     ]
    },
    {
     "name": "stdout",
     "output_type": "stream",
     "text": [
      "\n",
      "\n"
     ]
    }
   ],
   "source": [
    "# Setting up Splinter and path to chrome page, with headless as False so we can see the webpage\n",
    "executable_path = {'executable_path': ChromeDriverManager().install()}\n",
    "browser = Browser('chrome', **executable_path, headless=False)\n"
   ]
  },
  {
   "cell_type": "code",
   "execution_count": 224,
   "id": "synthetic-victory",
   "metadata": {},
   "outputs": [],
   "source": [
    "# Assigning the url for this next part to be visited and scrapped\n",
    "img_url = \"https://www.jpl.nasa.gov/spaceimages/?search=&amp;category=Mars\" \n",
    "\n",
    "# Retrieve page with the requests module, which returns an http response\n",
    "browser.visit(img_url)\n",
    "\n",
    "# Set up time delay for loading site\n",
    "time.sleep(2)"
   ]
  },
  {
   "cell_type": "code",
   "execution_count": 225,
   "id": "figured-injection",
   "metadata": {},
   "outputs": [],
   "source": [
    "# Create browser html element and pass on to a variable\n",
    "img_html = browser.html\n",
    "\n",
    "# Creating the BeautifulSoup object\n",
    "img_soup = bs(img_html,'lxml')\n",
    "\n",
    "# Obtaining featured Mars image and assigning the url string to recommended variable\n",
    "featured_img_url = img_soup.find('img', class_='BaseImage object-contain')['src']"
   ]
  },
  {
   "cell_type": "code",
   "execution_count": 226,
   "id": "final-fever",
   "metadata": {},
   "outputs": [
    {
     "name": "stdout",
     "output_type": "stream",
     "text": [
      "Current Featured Mars Image URL:\n",
      " https://d2pn8kiwq2w21t.cloudfront.net/images/jpegPIA24405.2e16d0ba.fill-400x400-c50.jpg \n",
      "\n",
      "passed into a variable: featured_img_url\n"
     ]
    }
   ],
   "source": [
    "# Outlaying the recommended variable for better display, printing out the variable\n",
    "featured_img_url\n",
    "print(f\"Current Featured Mars Image URL:\\n {featured_img_url} \\n\\npassed into a variable: featured_img_url\")"
   ]
  },
  {
   "cell_type": "code",
   "execution_count": 227,
   "id": "included-lover",
   "metadata": {},
   "outputs": [],
   "source": [
    "# Use the requests library to download and save the image from the `img_url` above. This part of the \n",
    "# HW couldn't be continued as the image page does not load up.\n",
    "import requests\n",
    "import shutil\n",
    "response = requests.get(featured_img_url, stream=True)\n",
    "with open('img.png', 'wb') as out_file:\n",
    "    shutil.copyfileobj(response.raw, out_file)"
   ]
  },
  {
   "cell_type": "code",
   "execution_count": 228,
   "id": "fitted-hayes",
   "metadata": {},
   "outputs": [],
   "source": [
    "# Closing browser\n",
    "browser.quit()"
   ]
  },
  {
   "cell_type": "markdown",
   "id": "excited-opera",
   "metadata": {},
   "source": [
    "#### Realized that the image connection link is not functional in the page, confirming Instructor's choice to leave out this part of the challenge. NEXT CELL WILL GIVE AN ERROR because the link is not functional"
   ]
  },
  {
   "cell_type": "code",
   "execution_count": null,
   "id": "creative-familiar",
   "metadata": {},
   "outputs": [],
   "source": [
    "# Display the image with IPython.display\n",
    "from IPython.display import Image\n",
    "#Image(featured_img_url ='img.png')"
   ]
  },
  {
   "cell_type": "markdown",
   "id": "dress-vancouver",
   "metadata": {},
   "source": [
    "#### Mars Facts"
   ]
  },
  {
   "cell_type": "code",
   "execution_count": 229,
   "id": "chronic-agriculture",
   "metadata": {},
   "outputs": [
    {
     "name": "stderr",
     "output_type": "stream",
     "text": [
      "[WDM] - ====== WebDriver manager ======\n",
      "[WDM] - Current google-chrome version is 88.0.4324\n",
      "[WDM] - Get LATEST driver version for 88.0.4324\n",
      "[WDM] - Driver [C:\\Users\\jonat\\.wdm\\drivers\\chromedriver\\win32\\88.0.4324.96\\chromedriver.exe] found in cache\n"
     ]
    },
    {
     "name": "stdout",
     "output_type": "stream",
     "text": [
      "\n",
      "\n"
     ]
    }
   ],
   "source": [
    "# Setting up Splinter and path to chrome page, with headless as False so we can see the webpage\n",
    "executable_path = {'executable_path': ChromeDriverManager().install()}\n",
    "browser = Browser('chrome', **executable_path, headless=False)"
   ]
  },
  {
   "cell_type": "code",
   "execution_count": 230,
   "id": "southeast-channels",
   "metadata": {},
   "outputs": [],
   "source": [
    "# Creating url off the assigned website\n",
    "mfcts_url = \"https://space-facts.com/mars/\"\n",
    "\n",
    "# Using the browser element to visit the url, with timer for loading up page\n",
    "browser.visit(mfcts_url)\n",
    "time.sleep(2)"
   ]
  },
  {
   "cell_type": "code",
   "execution_count": 231,
   "id": "exact-courage",
   "metadata": {},
   "outputs": [],
   "source": [
    "# Setting up html element\n",
    "mfcts_html = browser.html\n",
    "\n",
    "# Using the lxml parser to create the BeautifulSoup object\n",
    "mfcts_soup = bs(mfcts_html, 'lxml')"
   ]
  },
  {
   "cell_type": "code",
   "execution_count": 232,
   "id": "sitting-morning",
   "metadata": {},
   "outputs": [
    {
     "name": "stdout",
     "output_type": "stream",
     "text": [
      "<tbody>\n",
      " <tr class=\"row-1 odd\">\n",
      "  <td class=\"column-1\">\n",
      "   <strong>\n",
      "    Equatorial Diameter:\n",
      "   </strong>\n",
      "  </td>\n",
      "  <td class=\"column-2\">\n",
      "   6,792 km\n",
      "   <br/>\n",
      "  </td>\n",
      " </tr>\n",
      " <tr class=\"row-2 even\">\n",
      "  <td class=\"column-1\">\n",
      "   <strong>\n",
      "    Polar Diameter:\n",
      "   </strong>\n",
      "  </td>\n",
      "  <td class=\"column-2\">\n",
      "   6,752 km\n",
      "   <br/>\n",
      "  </td>\n",
      " </tr>\n",
      " <tr class=\"row-3 odd\">\n",
      "  <td class=\"column-1\">\n",
      "   <strong>\n",
      "    Mass:\n",
      "   </strong>\n",
      "  </td>\n",
      "  <td class=\"column-2\">\n",
      "   6.39 × 10^23 kg\n",
      "   <br/>\n",
      "   (0.11 Earths)\n",
      "  </td>\n",
      " </tr>\n",
      " <tr class=\"row-4 even\">\n",
      "  <td class=\"column-1\">\n",
      "   <strong>\n",
      "    Moons:\n",
      "   </strong>\n",
      "  </td>\n",
      "  <td class=\"column-2\">\n",
      "   2 (\n",
      "   <a href=\"https://space-facts.com/moons/phobos/\">\n",
      "    Phobos\n",
      "   </a>\n",
      "   &amp;\n",
      "   <a href=\"https://space-facts.com/moons/deimos/\">\n",
      "    Deimos\n",
      "   </a>\n",
      "   )\n",
      "  </td>\n",
      " </tr>\n",
      " <tr class=\"row-5 odd\">\n",
      "  <td class=\"column-1\">\n",
      "   <strong>\n",
      "    Orbit Distance:\n",
      "   </strong>\n",
      "  </td>\n",
      "  <td class=\"column-2\">\n",
      "   227,943,824 km\n",
      "   <br/>\n",
      "   (1.38 AU)\n",
      "  </td>\n",
      " </tr>\n",
      " <tr class=\"row-6 even\">\n",
      "  <td class=\"column-1\">\n",
      "   <strong>\n",
      "    Orbit Period:\n",
      "   </strong>\n",
      "  </td>\n",
      "  <td class=\"column-2\">\n",
      "   687 days (1.9 years)\n",
      "   <br/>\n",
      "  </td>\n",
      " </tr>\n",
      " <tr class=\"row-7 odd\">\n",
      "  <td class=\"column-1\">\n",
      "   <strong>\n",
      "    Surface Temperature:\n",
      "   </strong>\n",
      "  </td>\n",
      "  <td class=\"column-2\">\n",
      "   -87 to -5 °C\n",
      "  </td>\n",
      " </tr>\n",
      " <tr class=\"row-8 even\">\n",
      "  <td class=\"column-1\">\n",
      "   <strong>\n",
      "    First Record:\n",
      "   </strong>\n",
      "  </td>\n",
      "  <td class=\"column-2\">\n",
      "   2nd millennium BC\n",
      "  </td>\n",
      " </tr>\n",
      " <tr class=\"row-9 odd\">\n",
      "  <td class=\"column-1\">\n",
      "   <strong>\n",
      "    Recorded By:\n",
      "   </strong>\n",
      "  </td>\n",
      "  <td class=\"column-2\">\n",
      "   Egyptian astronomers\n",
      "  </td>\n",
      " </tr>\n",
      "</tbody>\n"
     ]
    }
   ],
   "source": [
    "# Using beautifulSoup to create table object and print\n",
    "msfcts_table = mfcts_soup.find('tbody')\n",
    "print(msfcts_table.prettify())"
   ]
  },
  {
   "cell_type": "code",
   "execution_count": 233,
   "id": "physical-diesel",
   "metadata": {},
   "outputs": [
    {
     "data": {
      "text/plain": [
       "[                      0                              1\n",
       " 0  Equatorial Diameter:                       6,792 km\n",
       " 1       Polar Diameter:                       6,752 km\n",
       " 2                 Mass:  6.39 × 10^23 kg (0.11 Earths)\n",
       " 3                Moons:            2 (Phobos & Deimos)\n",
       " 4       Orbit Distance:       227,943,824 km (1.38 AU)\n",
       " 5         Orbit Period:           687 days (1.9 years)\n",
       " 6  Surface Temperature:                   -87 to -5 °C\n",
       " 7         First Record:              2nd millennium BC\n",
       " 8          Recorded By:           Egyptian astronomers,\n",
       "   Mars - Earth Comparison             Mars            Earth\n",
       " 0               Diameter:         6,779 km        12,742 km\n",
       " 1                   Mass:  6.39 × 10^23 kg  5.97 × 10^24 kg\n",
       " 2                  Moons:                2                1\n",
       " 3      Distance from Sun:   227,943,824 km   149,598,262 km\n",
       " 4         Length of Year:   687 Earth days      365.24 days\n",
       " 5            Temperature:     -87 to -5 °C      -88 to 58°C,\n",
       "                       0                              1\n",
       " 0  Equatorial Diameter:                       6,792 km\n",
       " 1       Polar Diameter:                       6,752 km\n",
       " 2                 Mass:  6.39 × 10^23 kg (0.11 Earths)\n",
       " 3                Moons:            2 (Phobos & Deimos)\n",
       " 4       Orbit Distance:       227,943,824 km (1.38 AU)\n",
       " 5         Orbit Period:           687 days (1.9 years)\n",
       " 6  Surface Temperature:                   -87 to -5 °C\n",
       " 7         First Record:              2nd millennium BC\n",
       " 8          Recorded By:           Egyptian astronomers]"
      ]
     },
     "execution_count": 233,
     "metadata": {},
     "output_type": "execute_result"
    }
   ],
   "source": [
    "# Generating HTML table string using Pandas and presenting\n",
    "conv_msfcts_table = pd.read_html(mfcts_html)\n",
    "conv_msfcts_table"
   ]
  },
  {
   "cell_type": "code",
   "execution_count": 234,
   "id": "enormous-convertible",
   "metadata": {},
   "outputs": [
    {
     "data": {
      "text/html": [
       "<div>\n",
       "<style scoped>\n",
       "    .dataframe tbody tr th:only-of-type {\n",
       "        vertical-align: middle;\n",
       "    }\n",
       "\n",
       "    .dataframe tbody tr th {\n",
       "        vertical-align: top;\n",
       "    }\n",
       "\n",
       "    .dataframe thead th {\n",
       "        text-align: right;\n",
       "    }\n",
       "</style>\n",
       "<table border=\"1\" class=\"dataframe\">\n",
       "  <thead>\n",
       "    <tr style=\"text-align: right;\">\n",
       "      <th></th>\n",
       "      <th>Key Features</th>\n",
       "      <th>Mars Facts</th>\n",
       "    </tr>\n",
       "  </thead>\n",
       "  <tbody>\n",
       "    <tr>\n",
       "      <th>0</th>\n",
       "      <td>Equatorial Diameter:</td>\n",
       "      <td>6,792 km</td>\n",
       "    </tr>\n",
       "    <tr>\n",
       "      <th>1</th>\n",
       "      <td>Polar Diameter:</td>\n",
       "      <td>6,752 km</td>\n",
       "    </tr>\n",
       "    <tr>\n",
       "      <th>2</th>\n",
       "      <td>Mass:</td>\n",
       "      <td>6.39 × 10^23 kg (0.11 Earths)</td>\n",
       "    </tr>\n",
       "    <tr>\n",
       "      <th>3</th>\n",
       "      <td>Moons:</td>\n",
       "      <td>2 (Phobos &amp; Deimos)</td>\n",
       "    </tr>\n",
       "    <tr>\n",
       "      <th>4</th>\n",
       "      <td>Orbit Distance:</td>\n",
       "      <td>227,943,824 km (1.38 AU)</td>\n",
       "    </tr>\n",
       "    <tr>\n",
       "      <th>5</th>\n",
       "      <td>Orbit Period:</td>\n",
       "      <td>687 days (1.9 years)</td>\n",
       "    </tr>\n",
       "    <tr>\n",
       "      <th>6</th>\n",
       "      <td>Surface Temperature:</td>\n",
       "      <td>-87 to -5 °C</td>\n",
       "    </tr>\n",
       "    <tr>\n",
       "      <th>7</th>\n",
       "      <td>First Record:</td>\n",
       "      <td>2nd millennium BC</td>\n",
       "    </tr>\n",
       "    <tr>\n",
       "      <th>8</th>\n",
       "      <td>Recorded By:</td>\n",
       "      <td>Egyptian astronomers</td>\n",
       "    </tr>\n",
       "  </tbody>\n",
       "</table>\n",
       "</div>"
      ],
      "text/plain": [
       "           Key Features                     Mars Facts\n",
       "0  Equatorial Diameter:                       6,792 km\n",
       "1       Polar Diameter:                       6,752 km\n",
       "2                 Mass:  6.39 × 10^23 kg (0.11 Earths)\n",
       "3                Moons:            2 (Phobos & Deimos)\n",
       "4       Orbit Distance:       227,943,824 km (1.38 AU)\n",
       "5         Orbit Period:           687 days (1.9 years)\n",
       "6  Surface Temperature:                   -87 to -5 °C\n",
       "7         First Record:              2nd millennium BC\n",
       "8          Recorded By:           Egyptian astronomers"
      ]
     },
     "execution_count": 234,
     "metadata": {},
     "output_type": "execute_result"
    }
   ],
   "source": [
    "# Converting HTML table string to dataframe. Displayed the DF\n",
    "mars_facts = pd.DataFrame(conv_msfcts_table[0])\n",
    "mars_facts.columns = ['Key Features','Mars Facts']\n",
    "mars_facts"
   ]
  },
  {
   "cell_type": "code",
   "execution_count": 22,
   "id": "victorian-houston",
   "metadata": {},
   "outputs": [],
   "source": [
    "# Closing browser\n",
    "browser.quit()"
   ]
  },
  {
   "cell_type": "markdown",
   "id": "proprietary-syndrome",
   "metadata": {},
   "source": [
    "#### Mars Hemispheres"
   ]
  },
  {
   "cell_type": "code",
   "execution_count": 246,
   "id": "simple-graham",
   "metadata": {},
   "outputs": [
    {
     "name": "stderr",
     "output_type": "stream",
     "text": [
      "[WDM] - ====== WebDriver manager ======\n",
      "[WDM] - Current google-chrome version is 88.0.4324\n",
      "[WDM] - Get LATEST driver version for 88.0.4324\n",
      "[WDM] - Get LATEST driver version for 88.0.4324\n"
     ]
    },
    {
     "name": "stdout",
     "output_type": "stream",
     "text": [
      "\n",
      "\n"
     ]
    },
    {
     "name": "stderr",
     "output_type": "stream",
     "text": [
      "[WDM] - Trying to download new driver from https://chromedriver.storage.googleapis.com/88.0.4324.96/chromedriver_win32.zip\n",
      "[WDM] - Driver has been saved in cache [C:\\Users\\jonat\\.wdm\\drivers\\chromedriver\\win32\\88.0.4324.96]\n"
     ]
    }
   ],
   "source": [
    "# Setting up Splinter and path to chrome page, with headless as False so we can see the webpage\n",
    "executable_path = {'executable_path': ChromeDriverManager().install()}\n",
    "browser = Browser('chrome', **executable_path, headless=False)"
   ]
  },
  {
   "cell_type": "code",
   "execution_count": 247,
   "id": "initial-functionality",
   "metadata": {},
   "outputs": [],
   "source": [
    "# Creating url off the assigned website\n",
    "mars_hemi_url = \"https://astrogeology.usgs.gov/search/results?q=hemisphere+enhanced&k1=target&v1=Mars\"\n",
    "browser.visit(mars_hemi_url)\n",
    "time.sleep(1)"
   ]
  },
  {
   "cell_type": "code",
   "execution_count": 248,
   "id": "endangered-rates",
   "metadata": {},
   "outputs": [],
   "source": [
    "# Setting up html element\n",
    "mars_hemi_html = browser.html\n",
    "\n",
    "# Creating the BeautifulSoup object and parsing using lxml\n",
    "mars_hemi_soup = bs(mars_hemi_html, 'lxml')"
   ]
  },
  {
   "cell_type": "code",
   "execution_count": 249,
   "id": "ultimate-russia",
   "metadata": {},
   "outputs": [
    {
     "data": {
      "text/plain": [
       "[{'title': 'Cerberus Hemisphere Enhanced',\n",
       "  'image_url': 'https://astropedia.astrogeology.usgs.gov/download/Mars/Viking/cerberus_enhanced.tif/full.jpg'},\n",
       " {'title': 'Schiaparelli Hemisphere Enhanced',\n",
       "  'image_url': 'https://astropedia.astrogeology.usgs.gov/download/Mars/Viking/schiaparelli_enhanced.tif/full.jpg'},\n",
       " {'title': 'Syrtis Major Hemisphere Enhanced',\n",
       "  'image_url': 'https://astropedia.astrogeology.usgs.gov/download/Mars/Viking/syrtis_major_enhanced.tif/full.jpg'},\n",
       " {'title': 'Valles Marineris Hemisphere Enhanced',\n",
       "  'image_url': 'https://astropedia.astrogeology.usgs.gov/download/Mars/Viking/valles_marineris_enhanced.tif/full.jpg'}]"
      ]
     },
     "execution_count": 249,
     "metadata": {},
     "output_type": "execute_result"
    }
   ],
   "source": [
    "# Creating a list for the images in the url\n",
    "image_urls = []\n",
    "\n",
    "# selecting all the 'a' tags with class 'product-item h3' for the for loop\n",
    "links = browser.find_by_css('a.product-item h3')\n",
    "\n",
    "# Setting up a for loop for the individual cases of the Mars hemispheres\n",
    "for link in range(len(links)):\n",
    "    hemisphere = {}\n",
    "    browser.find_by_css('a.product-item h3')[link].click()\n",
    "    image_url = browser.links.find_by_text('Sample').first\n",
    "    \n",
    "    # Setting up the dictionary for the keys img_url and title\n",
    "    hemisphere['title'] = browser.find_by_css('h2.title').text\n",
    "    hemisphere['image_url'] = image_url['href']\n",
    "    image_urls.append(hemisphere)\n",
    "    \n",
    "    # Returning the browser to first page for next loop item\n",
    "    browser.back()\n",
    "\n",
    "# Displaying all the elements in the list\n",
    "image_urls"
   ]
  },
  {
   "cell_type": "code",
   "execution_count": 250,
   "id": "offensive-favor",
   "metadata": {},
   "outputs": [],
   "source": [
    "# Closing the browser\n",
    "browser.quit()"
   ]
  },
  {
   "cell_type": "markdown",
   "id": "extended-optics",
   "metadata": {},
   "source": [
    "#### Instructor told class that this part, Step 2, no longer necessary to HW, so I will take it on private practice"
   ]
  },
  {
   "cell_type": "code",
   "execution_count": null,
   "id": "negative-verification",
   "metadata": {},
   "outputs": [],
   "source": []
  }
 ],
 "metadata": {
  "kernelspec": {
   "display_name": "Python 3",
   "language": "python",
   "name": "python3"
  },
  "language_info": {
   "codemirror_mode": {
    "name": "ipython",
    "version": 3
   },
   "file_extension": ".py",
   "mimetype": "text/x-python",
   "name": "python",
   "nbconvert_exporter": "python",
   "pygments_lexer": "ipython3",
   "version": "3.9.1"
  }
 },
 "nbformat": 4,
 "nbformat_minor": 5
}
